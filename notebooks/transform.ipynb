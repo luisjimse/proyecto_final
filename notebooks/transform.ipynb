{
 "cells": [
  {
   "cell_type": "code",
   "execution_count": 1,
   "metadata": {},
   "outputs": [],
   "source": [
    "import pandas as pd"
   ]
  },
  {
   "cell_type": "code",
   "execution_count": 3,
   "metadata": {},
   "outputs": [
    {
     "data": {
      "text/html": [
       "<div>\n",
       "<style scoped>\n",
       "    .dataframe tbody tr th:only-of-type {\n",
       "        vertical-align: middle;\n",
       "    }\n",
       "\n",
       "    .dataframe tbody tr th {\n",
       "        vertical-align: top;\n",
       "    }\n",
       "\n",
       "    .dataframe thead th {\n",
       "        text-align: right;\n",
       "    }\n",
       "</style>\n",
       "<table border=\"1\" class=\"dataframe\">\n",
       "  <thead>\n",
       "    <tr style=\"text-align: right;\">\n",
       "      <th></th>\n",
       "      <th>name</th>\n",
       "      <th>edition</th>\n",
       "      <th>condition</th>\n",
       "      <th>language</th>\n",
       "      <th>price_eur</th>\n",
       "      <th>quantity</th>\n",
       "    </tr>\n",
       "  </thead>\n",
       "  <tbody>\n",
       "    <tr>\n",
       "      <th>0</th>\n",
       "      <td>Acechadora de Llanowar</td>\n",
       "      <td>Dominaria Unida</td>\n",
       "      <td>NM</td>\n",
       "      <td>Español</td>\n",
       "      <td>0.05</td>\n",
       "      <td>2</td>\n",
       "    </tr>\n",
       "    <tr>\n",
       "      <th>1</th>\n",
       "      <td>Acuífero contaminado</td>\n",
       "      <td>Dominaria Unida</td>\n",
       "      <td>NM</td>\n",
       "      <td>Español</td>\n",
       "      <td>0.90</td>\n",
       "      <td>1</td>\n",
       "    </tr>\n",
       "    <tr>\n",
       "      <th>2</th>\n",
       "      <td>Afanar</td>\n",
       "      <td>Dominaria Unida</td>\n",
       "      <td>NM</td>\n",
       "      <td>Español</td>\n",
       "      <td>0.10</td>\n",
       "      <td>2</td>\n",
       "    </tr>\n",
       "    <tr>\n",
       "      <th>3</th>\n",
       "      <td>Afluente fundido</td>\n",
       "      <td>Dominaria Unida</td>\n",
       "      <td>NM</td>\n",
       "      <td>Español</td>\n",
       "      <td>0.25</td>\n",
       "      <td>4</td>\n",
       "    </tr>\n",
       "    <tr>\n",
       "      <th>4</th>\n",
       "      <td>Alas rotas</td>\n",
       "      <td>Dominaria Unida</td>\n",
       "      <td>NM</td>\n",
       "      <td>Español</td>\n",
       "      <td>0.05</td>\n",
       "      <td>3</td>\n",
       "    </tr>\n",
       "  </tbody>\n",
       "</table>\n",
       "</div>"
      ],
      "text/plain": [
       "                     name          edition condition language  price_eur  \\\n",
       "0  Acechadora de Llanowar  Dominaria Unida        NM  Español       0.05   \n",
       "1    Acuífero contaminado  Dominaria Unida        NM  Español       0.90   \n",
       "2                  Afanar  Dominaria Unida        NM  Español       0.10   \n",
       "3        Afluente fundido  Dominaria Unida        NM  Español       0.25   \n",
       "4              Alas rotas  Dominaria Unida        NM  Español       0.05   \n",
       "\n",
       "   quantity  \n",
       "0         2  \n",
       "1         1  \n",
       "2         2  \n",
       "3         4  \n",
       "4         3  "
      ]
     },
     "execution_count": 3,
     "metadata": {},
     "output_type": "execute_result"
    }
   ],
   "source": [
    "df = pd.read_csv(\"../data/urban_cards_estandar_inventory_all_editions.csv\")\n",
    "df.head()"
   ]
  },
  {
   "cell_type": "code",
   "execution_count": 4,
   "metadata": {},
   "outputs": [
    {
     "name": "stdout",
     "output_type": "stream",
     "text": [
      "<class 'pandas.core.frame.DataFrame'>\n",
      "RangeIndex: 1518 entries, 0 to 1517\n",
      "Data columns (total 6 columns):\n",
      " #   Column     Non-Null Count  Dtype  \n",
      "---  ------     --------------  -----  \n",
      " 0   name       1518 non-null   object \n",
      " 1   edition    1518 non-null   object \n",
      " 2   condition  1518 non-null   object \n",
      " 3   language   1518 non-null   object \n",
      " 4   price_eur  1518 non-null   float64\n",
      " 5   quantity   1518 non-null   int64  \n",
      "dtypes: float64(1), int64(1), object(4)\n",
      "memory usage: 71.3+ KB\n"
     ]
    }
   ],
   "source": [
    "df.info()"
   ]
  },
  {
   "cell_type": "code",
   "execution_count": 5,
   "metadata": {},
   "outputs": [
    {
     "name": "stdout",
     "output_type": "stream",
     "text": [
      "['NM' 'EX']\n",
      "['Español' 'Inglés']\n"
     ]
    }
   ],
   "source": [
    "print(df['condition'].unique())\n",
    "print(df['language'].unique())"
   ]
  },
  {
   "cell_type": "code",
   "execution_count": 6,
   "metadata": {},
   "outputs": [],
   "source": [
    "df = df.drop_duplicates()\n"
   ]
  },
  {
   "cell_type": "code",
   "execution_count": 7,
   "metadata": {},
   "outputs": [
    {
     "name": "stdout",
     "output_type": "stream",
     "text": [
      "<class 'pandas.core.frame.DataFrame'>\n",
      "Index: 1506 entries, 0 to 1517\n",
      "Data columns (total 6 columns):\n",
      " #   Column     Non-Null Count  Dtype  \n",
      "---  ------     --------------  -----  \n",
      " 0   name       1506 non-null   object \n",
      " 1   edition    1506 non-null   object \n",
      " 2   condition  1506 non-null   object \n",
      " 3   language   1506 non-null   object \n",
      " 4   price_eur  1506 non-null   float64\n",
      " 5   quantity   1506 non-null   int64  \n",
      "dtypes: float64(1), int64(1), object(4)\n",
      "memory usage: 82.4+ KB\n"
     ]
    }
   ],
   "source": [
    "df.info()"
   ]
  },
  {
   "cell_type": "code",
   "execution_count": 8,
   "metadata": {},
   "outputs": [],
   "source": [
    "df['total_value'] = df['price_eur'] * df['quantity']\n",
    "df['total_value'] = df['total_value'].round(2)\n"
   ]
  },
  {
   "cell_type": "code",
   "execution_count": 9,
   "metadata": {},
   "outputs": [
    {
     "data": {
      "text/html": [
       "<div>\n",
       "<style scoped>\n",
       "    .dataframe tbody tr th:only-of-type {\n",
       "        vertical-align: middle;\n",
       "    }\n",
       "\n",
       "    .dataframe tbody tr th {\n",
       "        vertical-align: top;\n",
       "    }\n",
       "\n",
       "    .dataframe thead th {\n",
       "        text-align: right;\n",
       "    }\n",
       "</style>\n",
       "<table border=\"1\" class=\"dataframe\">\n",
       "  <thead>\n",
       "    <tr style=\"text-align: right;\">\n",
       "      <th></th>\n",
       "      <th>name</th>\n",
       "      <th>edition</th>\n",
       "      <th>condition</th>\n",
       "      <th>language</th>\n",
       "      <th>price_eur</th>\n",
       "      <th>quantity</th>\n",
       "      <th>total_value</th>\n",
       "    </tr>\n",
       "  </thead>\n",
       "  <tbody>\n",
       "    <tr>\n",
       "      <th>0</th>\n",
       "      <td>Acechadora de Llanowar</td>\n",
       "      <td>Dominaria Unida</td>\n",
       "      <td>NM</td>\n",
       "      <td>Español</td>\n",
       "      <td>0.05</td>\n",
       "      <td>2</td>\n",
       "      <td>0.10</td>\n",
       "    </tr>\n",
       "    <tr>\n",
       "      <th>1</th>\n",
       "      <td>Acuífero contaminado</td>\n",
       "      <td>Dominaria Unida</td>\n",
       "      <td>NM</td>\n",
       "      <td>Español</td>\n",
       "      <td>0.90</td>\n",
       "      <td>1</td>\n",
       "      <td>0.90</td>\n",
       "    </tr>\n",
       "    <tr>\n",
       "      <th>2</th>\n",
       "      <td>Afanar</td>\n",
       "      <td>Dominaria Unida</td>\n",
       "      <td>NM</td>\n",
       "      <td>Español</td>\n",
       "      <td>0.10</td>\n",
       "      <td>2</td>\n",
       "      <td>0.20</td>\n",
       "    </tr>\n",
       "    <tr>\n",
       "      <th>3</th>\n",
       "      <td>Afluente fundido</td>\n",
       "      <td>Dominaria Unida</td>\n",
       "      <td>NM</td>\n",
       "      <td>Español</td>\n",
       "      <td>0.25</td>\n",
       "      <td>4</td>\n",
       "      <td>1.00</td>\n",
       "    </tr>\n",
       "    <tr>\n",
       "      <th>4</th>\n",
       "      <td>Alas rotas</td>\n",
       "      <td>Dominaria Unida</td>\n",
       "      <td>NM</td>\n",
       "      <td>Español</td>\n",
       "      <td>0.05</td>\n",
       "      <td>3</td>\n",
       "      <td>0.15</td>\n",
       "    </tr>\n",
       "  </tbody>\n",
       "</table>\n",
       "</div>"
      ],
      "text/plain": [
       "                     name          edition condition language  price_eur  \\\n",
       "0  Acechadora de Llanowar  Dominaria Unida        NM  Español       0.05   \n",
       "1    Acuífero contaminado  Dominaria Unida        NM  Español       0.90   \n",
       "2                  Afanar  Dominaria Unida        NM  Español       0.10   \n",
       "3        Afluente fundido  Dominaria Unida        NM  Español       0.25   \n",
       "4              Alas rotas  Dominaria Unida        NM  Español       0.05   \n",
       "\n",
       "   quantity  total_value  \n",
       "0         2         0.10  \n",
       "1         1         0.90  \n",
       "2         2         0.20  \n",
       "3         4         1.00  \n",
       "4         3         0.15  "
      ]
     },
     "execution_count": 9,
     "metadata": {},
     "output_type": "execute_result"
    }
   ],
   "source": [
    "df.head()"
   ]
  },
  {
   "cell_type": "code",
   "execution_count": 15,
   "metadata": {},
   "outputs": [
    {
     "name": "stdout",
     "output_type": "stream",
     "text": [
      "<class 'pandas.core.frame.DataFrame'>\n",
      "Index: 1506 entries, 0 to 1517\n",
      "Data columns (total 7 columns):\n",
      " #   Column       Non-Null Count  Dtype  \n",
      "---  ------       --------------  -----  \n",
      " 0   name         1506 non-null   object \n",
      " 1   edition      1506 non-null   object \n",
      " 2   condition    1506 non-null   object \n",
      " 3   language     1506 non-null   object \n",
      " 4   price_eur    1506 non-null   float64\n",
      " 5   quantity     1506 non-null   int64  \n",
      " 6   total_value  1506 non-null   float64\n",
      "dtypes: float64(2), int64(1), object(4)\n",
      "memory usage: 94.1+ KB\n"
     ]
    }
   ],
   "source": [
    "df.info()"
   ]
  },
  {
   "cell_type": "code",
   "execution_count": 10,
   "metadata": {},
   "outputs": [
    {
     "name": "stdout",
     "output_type": "stream",
     "text": [
      "💰 Valor total del inventario estándar: 750.04 €\n",
      "\n",
      "🏆 Top 10 cartas más valiosas:\n",
      "                                      name                           edition  \\\n",
      "1313                         La Eterchispa                       Aetherdrift   \n",
      "1190            Estandarte de la hermandad  Magic: The Gathering - Cimientos   \n",
      "742                     Distrito comercial   Asesinatos en la mansión Karlov   \n",
      "1066                Tres pasos por delante     Forajidos de Cruce de Truenos   \n",
      "950                      Hidra filondorado     Forajidos de Cruce de Truenos   \n",
      "1067                Tres pasos por delante     Forajidos de Cruce de Truenos   \n",
      "1311                 Mecatitán vidrillante                       Aetherdrift   \n",
      "953                Huesitos, el carterista     Forajidos de Cruce de Truenos   \n",
      "414   Tegumentiburón de la Hueste de Cromo            Marcha de las máquinas   \n",
      "1471          Remolino del dragón espíritu        Tarkir: tormenta dracónica   \n",
      "\n",
      "      price_eur  quantity  total_value  \n",
      "1313      15.10         1         15.1  \n",
      "1190       5.00         3         15.0  \n",
      "742       10.30         1         10.3  \n",
      "1066       9.70         1          9.7  \n",
      "950        9.20         1          9.2  \n",
      "1067       9.00         1          9.0  \n",
      "1311       8.00         1          8.0  \n",
      "953        7.80         1          7.8  \n",
      "414        1.70         4          6.8  \n",
      "1471       1.34         5          6.7  \n",
      "\n",
      "📦 Valor por edición:\n",
      "edition\n",
      "Forajidos de Cruce de Truenos           159.63\n",
      "Tarkir: tormenta dracónica              120.02\n",
      "Magic: The Gathering - Cimientos        100.63\n",
      "Asesinatos en la mansión Karlov          68.81\n",
      "Las cavernas perdidas de Ixalan          55.73\n",
      "Dominaria Unida                          48.22\n",
      "Pirexia: Todos serán uno                 46.92\n",
      "Aetherdrift                              36.79\n",
      "Marcha de las máquinas                   32.76\n",
      "Bloomburrow                              26.96\n",
      "La Guerra de los Hermanos                21.74\n",
      "Las tierras salvajes de Eldraine         19.08\n",
      "Duskmourn: La casa de los horrores       11.25\n",
      "Marcha de las máquinas: las secuelas      1.50\n",
      "Name: total_value, dtype: float64\n"
     ]
    }
   ],
   "source": [
    "valor_total = df['total_value'].sum()\n",
    "print(f\"💰 Valor total del inventario estándar: {valor_total:.2f} €\")\n",
    "\n",
    "top_10 = df.sort_values(by=\"total_value\", ascending=False).head(10)\n",
    "print(\"\\n🏆 Top 10 cartas más valiosas:\")\n",
    "print(top_10[['name', 'edition', 'price_eur', 'quantity', 'total_value']])\n",
    "\n",
    "resumen_edicion = df.groupby(\"edition\")[\"total_value\"].sum().sort_values(ascending=False)\n",
    "print(\"\\n📦 Valor por edición:\")\n",
    "print(resumen_edicion)\n"
   ]
  },
  {
   "cell_type": "code",
   "execution_count": 11,
   "metadata": {},
   "outputs": [
    {
     "data": {
      "text/html": [
       "<div>\n",
       "<style scoped>\n",
       "    .dataframe tbody tr th:only-of-type {\n",
       "        vertical-align: middle;\n",
       "    }\n",
       "\n",
       "    .dataframe tbody tr th {\n",
       "        vertical-align: top;\n",
       "    }\n",
       "\n",
       "    .dataframe thead th {\n",
       "        text-align: right;\n",
       "    }\n",
       "</style>\n",
       "<table border=\"1\" class=\"dataframe\">\n",
       "  <thead>\n",
       "    <tr style=\"text-align: right;\">\n",
       "      <th></th>\n",
       "      <th>name</th>\n",
       "      <th>edition</th>\n",
       "      <th>condition</th>\n",
       "      <th>language</th>\n",
       "      <th>price_eur</th>\n",
       "      <th>quantity</th>\n",
       "      <th>seller</th>\n",
       "    </tr>\n",
       "  </thead>\n",
       "  <tbody>\n",
       "    <tr>\n",
       "      <th>0</th>\n",
       "      <td>Bendición de la furia de batalla</td>\n",
       "      <td>Dominaria Unida</td>\n",
       "      <td>NM</td>\n",
       "      <td>Inglés</td>\n",
       "      <td>0.20</td>\n",
       "      <td>8</td>\n",
       "      <td>Mazvigosl</td>\n",
       "    </tr>\n",
       "    <tr>\n",
       "      <th>1</th>\n",
       "      <td>Bosque (V.1)</td>\n",
       "      <td>Dominaria Unida</td>\n",
       "      <td>NM</td>\n",
       "      <td>Inglés</td>\n",
       "      <td>0.12</td>\n",
       "      <td>8</td>\n",
       "      <td>Mazvigosl</td>\n",
       "    </tr>\n",
       "    <tr>\n",
       "      <th>2</th>\n",
       "      <td>Bosque (V.3)</td>\n",
       "      <td>Dominaria Unida</td>\n",
       "      <td>NM</td>\n",
       "      <td>Inglés</td>\n",
       "      <td>0.12</td>\n",
       "      <td>8</td>\n",
       "      <td>Mazvigosl</td>\n",
       "    </tr>\n",
       "    <tr>\n",
       "      <th>3</th>\n",
       "      <td>Radha, señora guerrera de la Coalición</td>\n",
       "      <td>Dominaria Unida</td>\n",
       "      <td>NM</td>\n",
       "      <td>Inglés</td>\n",
       "      <td>0.12</td>\n",
       "      <td>8</td>\n",
       "      <td>Mazvigosl</td>\n",
       "    </tr>\n",
       "    <tr>\n",
       "      <th>4</th>\n",
       "      <td>Trasgo germinante</td>\n",
       "      <td>Dominaria Unida</td>\n",
       "      <td>NM</td>\n",
       "      <td>Inglés</td>\n",
       "      <td>0.12</td>\n",
       "      <td>8</td>\n",
       "      <td>Mazvigosl</td>\n",
       "    </tr>\n",
       "  </tbody>\n",
       "</table>\n",
       "</div>"
      ],
      "text/plain": [
       "                                     name          edition condition language  \\\n",
       "0        Bendición de la furia de batalla  Dominaria Unida        NM   Inglés   \n",
       "1                            Bosque (V.1)  Dominaria Unida        NM   Inglés   \n",
       "2                            Bosque (V.3)  Dominaria Unida        NM   Inglés   \n",
       "3  Radha, señora guerrera de la Coalición  Dominaria Unida        NM   Inglés   \n",
       "4                       Trasgo germinante  Dominaria Unida        NM   Inglés   \n",
       "\n",
       "   price_eur  quantity     seller  \n",
       "0       0.20         8  Mazvigosl  \n",
       "1       0.12         8  Mazvigosl  \n",
       "2       0.12         8  Mazvigosl  \n",
       "3       0.12         8  Mazvigosl  \n",
       "4       0.12         8  Mazvigosl  "
      ]
     },
     "execution_count": 11,
     "metadata": {},
     "output_type": "execute_result"
    }
   ],
   "source": [
    "df_competencia = pd.read_csv(\"../data/competitors_inventory_combined.csv\")\n",
    "df_competencia.head()"
   ]
  },
  {
   "cell_type": "code",
   "execution_count": 12,
   "metadata": {},
   "outputs": [
    {
     "name": "stdout",
     "output_type": "stream",
     "text": [
      "<class 'pandas.core.frame.DataFrame'>\n",
      "RangeIndex: 9714 entries, 0 to 9713\n",
      "Data columns (total 7 columns):\n",
      " #   Column     Non-Null Count  Dtype  \n",
      "---  ------     --------------  -----  \n",
      " 0   name       9714 non-null   object \n",
      " 1   edition    9714 non-null   object \n",
      " 2   condition  9714 non-null   object \n",
      " 3   language   9714 non-null   object \n",
      " 4   price_eur  9714 non-null   float64\n",
      " 5   quantity   9714 non-null   int64  \n",
      " 6   seller     9714 non-null   object \n",
      "dtypes: float64(1), int64(1), object(5)\n",
      "memory usage: 531.4+ KB\n"
     ]
    }
   ],
   "source": [
    "df_competencia.info()"
   ]
  },
  {
   "cell_type": "code",
   "execution_count": 13,
   "metadata": {},
   "outputs": [
    {
     "name": "stdout",
     "output_type": "stream",
     "text": [
      "['NM' 'EX' 'GD' 'LP' 'PO']\n",
      "['Inglés' 'Japonés' 'Español' 'Alemán' 'Francés']\n"
     ]
    }
   ],
   "source": [
    "print(df_competencia['condition'].unique())\n",
    "print(df_competencia['language'].unique())"
   ]
  },
  {
   "cell_type": "code",
   "execution_count": 14,
   "metadata": {},
   "outputs": [
    {
     "data": {
      "text/html": [
       "<div>\n",
       "<style scoped>\n",
       "    .dataframe tbody tr th:only-of-type {\n",
       "        vertical-align: middle;\n",
       "    }\n",
       "\n",
       "    .dataframe tbody tr th {\n",
       "        vertical-align: top;\n",
       "    }\n",
       "\n",
       "    .dataframe thead th {\n",
       "        text-align: right;\n",
       "    }\n",
       "</style>\n",
       "<table border=\"1\" class=\"dataframe\">\n",
       "  <thead>\n",
       "    <tr style=\"text-align: right;\">\n",
       "      <th></th>\n",
       "      <th>name</th>\n",
       "      <th>edition</th>\n",
       "      <th>condition</th>\n",
       "      <th>language</th>\n",
       "      <th>price_eur</th>\n",
       "      <th>quantity</th>\n",
       "      <th>seller</th>\n",
       "      <th>total_value</th>\n",
       "    </tr>\n",
       "  </thead>\n",
       "  <tbody>\n",
       "    <tr>\n",
       "      <th>0</th>\n",
       "      <td>Bendición de la furia de batalla</td>\n",
       "      <td>Dominaria Unida</td>\n",
       "      <td>NM</td>\n",
       "      <td>Inglés</td>\n",
       "      <td>0.20</td>\n",
       "      <td>8</td>\n",
       "      <td>Mazvigosl</td>\n",
       "      <td>1.60</td>\n",
       "    </tr>\n",
       "    <tr>\n",
       "      <th>1</th>\n",
       "      <td>Bosque (V.1)</td>\n",
       "      <td>Dominaria Unida</td>\n",
       "      <td>NM</td>\n",
       "      <td>Inglés</td>\n",
       "      <td>0.12</td>\n",
       "      <td>8</td>\n",
       "      <td>Mazvigosl</td>\n",
       "      <td>0.96</td>\n",
       "    </tr>\n",
       "    <tr>\n",
       "      <th>2</th>\n",
       "      <td>Bosque (V.3)</td>\n",
       "      <td>Dominaria Unida</td>\n",
       "      <td>NM</td>\n",
       "      <td>Inglés</td>\n",
       "      <td>0.12</td>\n",
       "      <td>8</td>\n",
       "      <td>Mazvigosl</td>\n",
       "      <td>0.96</td>\n",
       "    </tr>\n",
       "    <tr>\n",
       "      <th>3</th>\n",
       "      <td>Radha, señora guerrera de la Coalición</td>\n",
       "      <td>Dominaria Unida</td>\n",
       "      <td>NM</td>\n",
       "      <td>Inglés</td>\n",
       "      <td>0.12</td>\n",
       "      <td>8</td>\n",
       "      <td>Mazvigosl</td>\n",
       "      <td>0.96</td>\n",
       "    </tr>\n",
       "    <tr>\n",
       "      <th>4</th>\n",
       "      <td>Trasgo germinante</td>\n",
       "      <td>Dominaria Unida</td>\n",
       "      <td>NM</td>\n",
       "      <td>Inglés</td>\n",
       "      <td>0.12</td>\n",
       "      <td>8</td>\n",
       "      <td>Mazvigosl</td>\n",
       "      <td>0.96</td>\n",
       "    </tr>\n",
       "  </tbody>\n",
       "</table>\n",
       "</div>"
      ],
      "text/plain": [
       "                                     name          edition condition language  \\\n",
       "0        Bendición de la furia de batalla  Dominaria Unida        NM   Inglés   \n",
       "1                            Bosque (V.1)  Dominaria Unida        NM   Inglés   \n",
       "2                            Bosque (V.3)  Dominaria Unida        NM   Inglés   \n",
       "3  Radha, señora guerrera de la Coalición  Dominaria Unida        NM   Inglés   \n",
       "4                       Trasgo germinante  Dominaria Unida        NM   Inglés   \n",
       "\n",
       "   price_eur  quantity     seller  total_value  \n",
       "0       0.20         8  Mazvigosl         1.60  \n",
       "1       0.12         8  Mazvigosl         0.96  \n",
       "2       0.12         8  Mazvigosl         0.96  \n",
       "3       0.12         8  Mazvigosl         0.96  \n",
       "4       0.12         8  Mazvigosl         0.96  "
      ]
     },
     "execution_count": 14,
     "metadata": {},
     "output_type": "execute_result"
    }
   ],
   "source": [
    "df_competencia['total_value'] = df_competencia['price_eur'] * df_competencia['quantity']\n",
    "df_competencia['total_value'] = df_competencia['total_value'].round(2)\n",
    "df_competencia.head()"
   ]
  },
  {
   "cell_type": "code",
   "execution_count": 16,
   "metadata": {},
   "outputs": [],
   "source": [
    "# Paso 1: Crear un diccionario con nombres únicos en df\n",
    "df[\"id_carta\"] = df[\"name\"].astype(\"category\").cat.codes\n",
    "nombre_a_id = dict(zip(df[\"name\"], df[\"id_carta\"]))\n",
    "\n",
    "# Paso 2: Obtener los nombres que NO están en df\n",
    "nombres_competencia = set(df_competencia[\"name\"])\n",
    "nombres_urban = set(df[\"name\"])\n",
    "nuevos_nombres = nombres_competencia - nombres_urban\n",
    "\n",
    "# Paso 3: Asignar nuevos IDs a las cartas que solo están en df_competencia\n",
    "ultimo_id = df[\"id_carta\"].max() + 1\n",
    "nuevos_ids = {name: idx for idx, name in enumerate(nuevos_nombres, start=ultimo_id)}\n",
    "\n",
    "# Paso 4: Unir los diccionarios\n",
    "nombre_a_id.update(nuevos_ids)\n",
    "\n",
    "# Paso 5: Asignar los IDs a df_competencia\n",
    "df_competencia[\"id_carta\"] = df_competencia[\"name\"].map(nombre_a_id)\n"
   ]
  },
  {
   "cell_type": "code",
   "execution_count": 17,
   "metadata": {},
   "outputs": [
    {
     "name": "stdout",
     "output_type": "stream",
     "text": [
      "<class 'pandas.core.frame.DataFrame'>\n",
      "Index: 1506 entries, 0 to 1517\n",
      "Data columns (total 8 columns):\n",
      " #   Column       Non-Null Count  Dtype  \n",
      "---  ------       --------------  -----  \n",
      " 0   name         1506 non-null   object \n",
      " 1   edition      1506 non-null   object \n",
      " 2   condition    1506 non-null   object \n",
      " 3   language     1506 non-null   object \n",
      " 4   price_eur    1506 non-null   float64\n",
      " 5   quantity     1506 non-null   int64  \n",
      " 6   total_value  1506 non-null   float64\n",
      " 7   id_carta     1506 non-null   int16  \n",
      "dtypes: float64(2), int16(1), int64(1), object(4)\n",
      "memory usage: 97.1+ KB\n"
     ]
    }
   ],
   "source": [
    "df.info()"
   ]
  },
  {
   "cell_type": "code",
   "execution_count": 20,
   "metadata": {},
   "outputs": [],
   "source": [
    "df.to_csv(\"../data/urban_cards_estandar_final.csv\", index=False)"
   ]
  },
  {
   "cell_type": "code",
   "execution_count": 21,
   "metadata": {},
   "outputs": [],
   "source": [
    "df_competencia.to_csv(\"../data/competencia_estandar_final.csv\", index=False)"
   ]
  },
  {
   "cell_type": "code",
   "execution_count": null,
   "metadata": {},
   "outputs": [],
   "source": []
  }
 ],
 "metadata": {
  "kernelspec": {
   "display_name": "Python 3",
   "language": "python",
   "name": "python3"
  },
  "language_info": {
   "codemirror_mode": {
    "name": "ipython",
    "version": 3
   },
   "file_extension": ".py",
   "mimetype": "text/x-python",
   "name": "python",
   "nbconvert_exporter": "python",
   "pygments_lexer": "ipython3",
   "version": "3.9.6"
  }
 },
 "nbformat": 4,
 "nbformat_minor": 2
}
